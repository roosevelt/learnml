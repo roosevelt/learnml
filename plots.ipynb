{
 "cells": [
  {
   "cell_type": "code",
   "execution_count": 107,
   "metadata": {},
   "outputs": [
    {
     "data": {
      "image/png": "[encoded data removed]",
      "text/plain": [
       "<matplotlib.figure.Figure at 0xa06fd68>"
      ]
     },
     "metadata": {},
     "output_type": "display_data"
    }
   ],
   "source": [
    "import numpy as np\n",
    "import matplotlib.pyplot as plt\n",
    "\n",
    "# função cujos parâmetros serão otimizados\n",
    "def func(x):\n",
    "    y = x**3\n",
    "    return y\n",
    "\n",
    "# derivada da função escolhida\n",
    "def derivative(x):\n",
    "    y = 3*(x**2)\n",
    "    return y\n",
    "\n",
    "# algoritmo do gradiente descendente\n",
    "def gradient_descent(start_point, learning_rate, epochs):\n",
    "    plot_x = []\n",
    "    plot_y = []\n",
    "    \n",
    "    plot_x.append(start_point)\n",
    "    plot_y.append(func(start_point))\n",
    "    \n",
    "    x = start_point\n",
    "    for epoch in range(epochs):\n",
    "        ## atualizacao de parâmetros\n",
    "        x = x - learning_rate*(derivative(x))\n",
    "        ###\n",
    "        \n",
    "        plot_x.append(x)\n",
    "        plot_y.append(func(x))\n",
    "\n",
    "    return plot_x, plot_y\n",
    "\n",
    "# ponto inicial\n",
    "start_point = 7.5\n",
    "# taxa de aprendizado\n",
    "learning_rate = 0.05\n",
    "# quantidade de iterações do algoritmo (épocas)\n",
    "epochs = 10\n",
    "\n",
    "\n",
    "fig, ax = plt.subplots(1,1)\n",
    "\n",
    "# desenhar gráfico da função\n",
    "x = np.arange(-10, 10, 0.1)\n",
    "y = func(x)\n",
    "ax.plot(x, y, lw = 0.9, color = 'k')\n",
    "ax.set_xlim([min(x), max(x)])\n",
    "ax.set_ylim([min(y), max(y)])\n",
    "ax.set_xlabel(r'$x$')\n",
    "ax.set_ylabel(r'$f(x)$')\n",
    "##\n",
    "\n",
    "\n",
    "# Destacar pontos e colocar as setas\n",
    "plot_x, plot_y = gradient_descent(start_point, learning_rate, epochs)\n",
    "\n",
    "ax.scatter(plot_x, plot_y, c = 'b')\n",
    "\n",
    "for i in range(1, epochs+1):\n",
    "    ax.annotate('', xy=(plot_x[i], plot_y[i]), xytext=(plot_x[i-1], plot_y[i-1]),\n",
    "                   arrowprops={'arrowstyle': '->', 'color': 'r', 'lw': 1},\n",
    "                   va='center', ha='center')\n",
    "plt.show()\n",
    "##"
   ]
  },
  {
   "cell_type": "code",
   "execution_count": null,
   "metadata": {
    "collapsed": true
   },
   "outputs": [],
   "source": []
  }
 ],
 "metadata": {
  "kernelspec": {
   "display_name": "Python 2",
   "language": "python",
   "name": "python2"
  },
  "language_info": {
   "codemirror_mode": {
    "name": "ipython",
    "version": 2
   },
   "file_extension": ".py",
   "mimetype": "text/x-python",
   "name": "python",
   "nbconvert_exporter": "python",
   "pygments_lexer": "ipython2",
   "version": "2.7.13"
  }
 },
 "nbformat": 4,
 "nbformat_minor": 2
}
